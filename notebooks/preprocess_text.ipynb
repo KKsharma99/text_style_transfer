{
 "cells": [
  {
   "cell_type": "markdown",
   "metadata": {},
   "source": [
    "# Pre-process Text"
   ]
  },
  {
   "cell_type": "markdown",
   "metadata": {},
   "source": [
    "## Imports"
   ]
  },
  {
   "cell_type": "code",
   "execution_count": 2,
   "metadata": {},
   "outputs": [],
   "source": [
    "import numpy as np\n",
    "import pandas as pd\n",
    "import matplotlib.pyplot as plt\n",
    "import nltk\n",
    "import re\n",
    "from sklearn.model_selection import train_test_split\n",
    "import random"
   ]
  },
  {
   "cell_type": "markdown",
   "metadata": {},
   "source": [
    "## Functions"
   ]
  },
  {
   "cell_type": "markdown",
   "metadata": {},
   "source": [
    "### Helper Functions - Data Cleaning"
   ]
  },
  {
   "cell_type": "code",
   "execution_count": 3,
   "metadata": {},
   "outputs": [],
   "source": [
    "def _remove_write_fail(tweets):\n",
    "    \"\"\" Remove Sentences that have an issue writing to a file\n",
    "    Args:\n",
    "        tweets (list): Tweets to clean\n",
    "    Returns:\n",
    "        clean_tweets (list): Cleaned tweet list\n",
    "        removed (list): List of Removed Tweets\n",
    "    \"\"\"\n",
    "    removed = []\n",
    "    clean_tweets = []\n",
    "    with open(\"temp.txt\",'w') as out_file:\n",
    "        for tweet in tweets:\n",
    "            tweet = str(tweet)\n",
    "            try:\n",
    "                out_file.write(tweet)\n",
    "                clean_tweets.append(tweet)\n",
    "            except:\n",
    "                removed.append(tweet)\n",
    "    return clean_tweets, removed"
   ]
  },
  {
   "cell_type": "code",
   "execution_count": 4,
   "metadata": {},
   "outputs": [],
   "source": [
    "def _remove_urls(tweets, replace_token='<URL>'):\n",
    "    \"\"\" Replace URLs in text with a replacement token\n",
    "    Args:\n",
    "        tweets (list): Tweets to clean\n",
    "        replace_token (str): String to replace URL\n",
    "    Returns:\n",
    "        clean_tweets (list): Cleaned tweet list\n",
    "        removed (list): List of Removed Tweets\n",
    "    \"\"\"\n",
    "    removed = []\n",
    "    clean_tweets = []\n",
    "    for tweet in tweets:\n",
    "        try:\n",
    "            clean_tweet = re.sub(r'(https|http)?:\\/\\/(\\w|\\.|\\/|\\?|\\=|\\&|\\%)*\\b',\n",
    "                          replace_token, tweet, flags=re.MULTILINE)\n",
    "            clean_tweets.append(clean_tweet)\n",
    "        except TypeError:\n",
    "            removed.append(tweet)\n",
    "    return clean_tweets, removed"
   ]
  },
  {
   "cell_type": "code",
   "execution_count": 5,
   "metadata": {},
   "outputs": [],
   "source": [
    "def _remove_RT(tweets):\n",
    "    \"\"\" Remove Retweets\n",
    "    Args:\n",
    "        tweets (list): Tweets to clean\n",
    "    Returns:\n",
    "        clean_tweets (list): Cleaned tweet list\n",
    "        removed (list): List of Removed Tweets\n",
    "    \"\"\"\n",
    "    removed = []\n",
    "    clean_tweets = []\n",
    "    for tweet in tweets:\n",
    "        try:\n",
    "            if 'RT' ==  tweet.split()[0]:\n",
    "                removed.append(tweet)\n",
    "            else: clean_tweets.append(tweet)\n",
    "        except (TypeError, AttributeError):\n",
    "            pass\n",
    "    return clean_tweets, removed"
   ]
  },
  {
   "cell_type": "code",
   "execution_count": 6,
   "metadata": {},
   "outputs": [],
   "source": [
    "def _remove_at_Trump(tweets, debug=True):\n",
    "    \"\"\" Remove Tweets from others using @realdonaldtrump\n",
    "    Args:\n",
    "        tweets (list): Tweets to clean\n",
    "    Returns:\n",
    "        clean_tweets (list): Cleaned tweet list\n",
    "        removed (list): List of Removed Tweets\n",
    "    \"\"\"\n",
    "    clean_tweets = []\n",
    "    android, iphone, blackberry, web = [], [], [], []\n",
    "    for tweet in tweets:\n",
    "        if \"Twitter for Android\" in tweet:\n",
    "            android.append(tweet)\n",
    "        elif \"Twitter for iPhone\" in tweet:\n",
    "            iphone.append(tweet)\n",
    "        elif \"Twitter Web Client\" in tweet:\n",
    "            web.append(tweet)\n",
    "        elif \"Twitter for BlackBerry\" in tweet:\n",
    "            blackberry.append(tweet)\n",
    "        else:\n",
    "            clean_tweets.append(tweet)\n",
    "    removed = android + iphone + blackberry + web\n",
    "    if debug:\n",
    "        print(\"Android:\",len(android),\"iPhone:\",len(iphone),\"Web:\",len(web),\"Blackberry:\",len(blackberry))\n",
    "    return clean_tweets, removed  "
   ]
  },
  {
   "cell_type": "markdown",
   "metadata": {},
   "source": [
    "### Helper Functions - File Read/Write"
   ]
  },
  {
   "cell_type": "code",
   "execution_count": 7,
   "metadata": {},
   "outputs": [],
   "source": [
    "def _txt_file_to_sents(path, debug=True):\n",
    "    \"\"\" (Helper) Convert txt file into a list of sentences\n",
    "    Args:\n",
    "        path (str): Path to txt file\n",
    "        debug (bool): Whether to print information\n",
    "    Returns:\n",
    "        sents (list): List of sentences in corpus\n",
    "    \"\"\"\n",
    "    f = open(path, \"r\", errors=\"ignore\")\n",
    "    text = f.read()\n",
    "    f.close()\n",
    "    #nltk.download('punkt')\n",
    "    sents = nltk.sent_tokenize(text)\n",
    "    if debug: print(\"Converted\", path.split('/')[-1],\"| Sentences: \", len(sents))\n",
    "    return sents"
   ]
  },
  {
   "cell_type": "code",
   "execution_count": 64,
   "metadata": {},
   "outputs": [],
   "source": [
    "def _sents_to_txt(out_path, sents, debug=True, new_line=True):\n",
    "    \"\"\" (Helper) Write an array of sentences to a text file\n",
    "    Args:\n",
    "        out_path (str): Path to write txt file\n",
    "        sents (list): List of sentences in corpus\n",
    "        debug (bool): Whether to print information\n",
    "        new_line (bool): Whether to add a newline char to sentences\n",
    "    \"\"\"\n",
    "    with open(out_path,'w') as out_file:\n",
    "        for sentence in sents:\n",
    "            sentence = sentence+'\\n' if new_line else sentence\n",
    "            out_file.write(sentence)"
   ]
  },
  {
   "cell_type": "code",
   "execution_count": 50,
   "metadata": {},
   "outputs": [],
   "source": [
    "def _sents_to_train_dev_txt(sents, file_name, debug=True, new_line=True, random_state=42,\n",
    "                           returns=False, test_size=0.12):\n",
    "    \"\"\" (Helper) Convert a list of sentences to a train and dev set\n",
    "    Args:\n",
    "        sents (list): List of sentences in corpus\n",
    "        file_name (str): \"positive\" or \"negative\"\n",
    "        debug (bool): Whether to print information\n",
    "        new_line (bool): Whether to add a newline char to sentences\n",
    "        random_state (int): random state for data split\n",
    "        returns (bool): Whether to return train and dev sets\n",
    "        test_size (float): Percentage in dev set\n",
    "    Returns:\n",
    "        train (list): Train set\n",
    "        dev (list): Dev set\n",
    "    \"\"\"\n",
    "    train, dev, _, _ = train_test_split(sents, np.zeros(len(sents)),\n",
    "                                            test_size=test_size, \n",
    "                                        random_state=random_state)\n",
    "    dev, test, _, _ = train_test_split(dev, np.zeros(len(dev)),\n",
    "                                            test_size=0.0833, \n",
    "                                        random_state=random_state) \n",
    "    if debug: print(\"Num Train:\", len(train), \"| Num Dev:\", len(dev), \"| Num Test:\", len(test))\n",
    "    _sents_to_txt(\"../data/text_data/train/\" + file_name + \".txt\", train, debug=debug, new_line=new_line)\n",
    "    _sents_to_txt(\"../data/text_data/dev/\" + file_name + \".txt\", dev, debug=debug, new_line=new_line)\n",
    "    _sents_to_txt(\"../data/text_data/test/\" + file_name + \".txt\", test, debug=debug, new_line=new_line)\n",
    "    if returns: return train, dev, test"
   ]
  },
  {
   "cell_type": "code",
   "execution_count": 41,
   "metadata": {},
   "outputs": [],
   "source": [
    "def _gen_full_text_txt():\n",
    "    base_path = '../data/yelp/'\n",
    "    paths = ['train/positive.txt', 'train/negative.txt', 'dev/positive.txt', 'dev/negative.txt']\n",
    "    sents = []\n",
    "    for path in paths:\n",
    "        f = open(base_path + path, \"r\", errors=\"ignore\")\n",
    "        text = f.readlines()\n",
    "        sents.extend(text)\n",
    "        f.close()\n",
    "    _sents_to_txt(\"../data/yelp/full_text.txt\", sents)"
   ]
  },
  {
   "cell_type": "markdown",
   "metadata": {},
   "source": [
    "### Generate Original Dataset Sentences"
   ]
  },
  {
   "cell_type": "markdown",
   "metadata": {},
   "source": [
    "#### English Data"
   ]
  },
  {
   "cell_type": "code",
   "execution_count": 16,
   "metadata": {},
   "outputs": [],
   "source": [
    "from nltk.corpus import brown, gutenberg, inaugural, reuters\n",
    "def gen_en_text_orig():\n",
    "    \"\"\" Generate the orig en_text.txt file in the orig folder\n",
    "    \"\"\"\n",
    "    en_text = open('../data/text_data/orig/en_all_data.txt', 'w')\n",
    "#     # Reuters\n",
    "#     for file_id in reuters.fileids():\n",
    "#         file_sents = reuters.sents(file_id)\n",
    "#         for sent in file_sents:\n",
    "#             new_sent = ' '.join(sent)\n",
    "#             en_text.write(new_sent + '\\n')    \n",
    "    # Gutenberg\n",
    "    for file_id in gutenberg.fileids():\n",
    "        if file_id == 'bible-kjv.txt' or 'shakespeare' in file_id:\n",
    "            continue\n",
    "        file_sents = gutenberg.sents(file_id)\n",
    "        for sent in file_sents:\n",
    "            new_sent = ' '.join(sent)\n",
    "            en_text.write(new_sent + '\\n')\n",
    "    # Brown\n",
    "    for file_id in brown.fileids():\n",
    "        file_sents = brown.sents(file_id)\n",
    "        for sent in file_sents:\n",
    "            new_sent = ' '.join(sent)\n",
    "            en_text.write(new_sent + '\\n')\n",
    "    # Inaugural\n",
    "    for file_id in brown.fileids():\n",
    "        if file_id == '2017-Trump.txt':\n",
    "            continue\n",
    "        file_sents = brown.sents(file_id)\n",
    "        for sent in file_sents:\n",
    "            new_sent = ' '.join(sent)\n",
    "            en_text.write(new_sent + '\\n')\n",
    "    en_text.close()"
   ]
  },
  {
   "cell_type": "markdown",
   "metadata": {},
   "source": [
    "### Clean Original Dataset Sentences"
   ]
  },
  {
   "cell_type": "markdown",
   "metadata": {},
   "source": [
    "#### Trump Data"
   ]
  },
  {
   "cell_type": "code",
   "execution_count": 12,
   "metadata": {},
   "outputs": [],
   "source": [
    "def _clean_tweets(tweets, debug=True):\n",
    "    \"\"\" Main Helper function to clean Tweets\n",
    "    Args:\n",
    "        tweets (list): Tweets to clean\n",
    "        debug (bool): Whether to print information\n",
    "    Returns:\n",
    "        tweets (list): Cleaned tweet list\n",
    "    \"\"\"\n",
    "    tweets, del_write_test = _remove_write_fail(tweets)\n",
    "    tweets, del_url = _remove_urls(tweets)\n",
    "    tweets, del_RT = _remove_RT(tweets)\n",
    "    tweets, del_at_trump = _remove_at_Trump(tweets, debug=debug)\n",
    "    if debug:\n",
    "        print(\"Del Tweets (Write-Test):\", len(del_write_test))\n",
    "        print(\"Del Tweets (URL processing):\", len(del_url))\n",
    "        print(\"Del Tweets (RT processing):\", len(del_RT))\n",
    "        print(\"Del Tweets (Tweets @ Trump):\", len(del_at_trump))\n",
    "    return tweets\n",
    "    \n",
    "def _gen_trump_sents(debug=True):\n",
    "    \"\"\" Helper function to generate Trump data sentences\n",
    "    Args:\n",
    "        debug (bool): Whether to print information\n",
    "    \"\"\"\n",
    "    rally_speeches = _txt_file_to_sents(\"orig/trump_10_2016_rally_speeches_orig.txt\", debug=debug)\n",
    "    other_speeches = _txt_file_to_sents(\"orig/trump_speeches.txt\", debug=debug)\n",
    "    tweet = pd.read_csv(\"orig/trump_tweets_orig.csv\")\n",
    "    raw_tweets = list(tweet.text)\n",
    "    clean_tweets = _clean_tweets(raw_tweets, debug=debug)\n",
    "    sents = rally_speeches + other_speeches + clean_tweets\n",
    "    if debug:\n",
    "        print(\"Num Final Sentences:\", len(sents))\n",
    "    return sents\n",
    "\n",
    "def gen_trump_train_dev(debug=True, new_line=False, random_state=42, returns=True, test_size=0.12):\n",
    "    \"\"\" Main function to generate train and dev set for Trump Data\n",
    "    Args:\n",
    "        debug (bool): Whether to print information\n",
    "        new_line (bool): Whether to add a newline char to sentences\n",
    "        random_state (int): random state for data split\n",
    "        returns (bool): Whether to return train and dev sets\n",
    "        test_size (float): Percentage in dev set\n",
    "    Returns:\n",
    "        train (list): Train set\n",
    "        dev (list): Dev set\n",
    "    \"\"\"\n",
    "    sents = _gen_trump_sents(debug=debug)\n",
    "    _sents_to_txt('orig/trump_all_data.txt', sents)\n",
    "    train, dev = _sents_to_train_dev_txt(sents, file_name=\"negative\", debug=debug, new_line=new_line,\n",
    "                                        random_state=random_state, returns=returns, test_size=test_size)\n",
    "    \n",
    "    if returns: return train, dev"
   ]
  },
  {
   "cell_type": "markdown",
   "metadata": {},
   "source": [
    "#### English Data"
   ]
  },
  {
   "cell_type": "code",
   "execution_count": 36,
   "metadata": {},
   "outputs": [],
   "source": [
    "def _gen_en_sents(k = 62399):\n",
    "    \"\"\" Helper function to generate subsample of en sentences\n",
    "    Args:\n",
    "        k (int): Subsample size\n",
    "    \"\"\"\n",
    "    gen_en_text_orig()\n",
    "    f = open(\"../data/text_data/orig/en_text_NEW.txt\", \"r\")\n",
    "    sents = f.readlines()\n",
    "    f.close()\n",
    "    np.random.shuffle(sents)\n",
    "    #unused_sents = sents[k:]\n",
    "    #_sents_to_txt(\"../data/yelp/test/positive.txt\", unused_sents, debug=True, new_line=False)\n",
    "    return sents[:k]\n",
    "\n",
    "def gen_en_train_dev(k, debug=True, new_line=False, random_state=42, returns=True, test_size=0.12):\n",
    "    \"\"\" Main function to generate train and dev set for En Data\n",
    "    Args:\n",
    "        k (int): Subsample size\n",
    "        debug (bool): Whether to print information\n",
    "        new_line (bool): Whether to add a newline char to sentences\n",
    "        random_state (int): random state for data split\n",
    "        returns (bool): Whether to return train and dev sets\n",
    "        test_size (float): Percentage in dev set\n",
    "    Returns:\n",
    "        train (list): Train set\n",
    "        dev (list): Dev set\n",
    "    \"\"\"\n",
    "    sents = _gen_en_sents(k = k)\n",
    "    if debug: print(\"Num Final Sentences:\", len(sents))\n",
    "    _sents_to_txt('../data/text_data/orig/en_all_data.txt', sents)\n",
    "    train, dev, test = _sents_to_train_dev_txt(sents, file_name=\"positive\", debug=debug, test_size=test_size,\n",
    "                                         random_state=random_state, new_line=new_line, returns=returns)\n",
    "    if returns: return train, dev, test"
   ]
  },
  {
   "cell_type": "markdown",
   "metadata": {},
   "source": [
    "## Workflow"
   ]
  },
  {
   "cell_type": "code",
   "execution_count": 55,
   "metadata": {},
   "outputs": [],
   "source": [
    "#trump_train, trump_dev = gen_trump_train_dev(debug=True)"
   ]
  },
  {
   "cell_type": "code",
   "execution_count": 76,
   "metadata": {},
   "outputs": [
    {
     "name": "stdout",
     "output_type": "stream",
     "text": [
      "Converted trump_all_data.txt | Sentences:  84320\n"
     ]
    }
   ],
   "source": [
    "sents = _txt_file_to_sents('../data/text_data/orig/trump_all_data.txt', debug=True)"
   ]
  },
  {
   "cell_type": "code",
   "execution_count": 77,
   "metadata": {},
   "outputs": [],
   "source": [
    "#sents"
   ]
  },
  {
   "cell_type": "code",
   "execution_count": 78,
   "metadata": {},
   "outputs": [],
   "source": [
    "sents = [sent.lower() for sent in sents]"
   ]
  },
  {
   "cell_type": "code",
   "execution_count": 79,
   "metadata": {},
   "outputs": [],
   "source": [
    "sents = [sent.rstrip(\"\\n\").replace('\\n\\n','\\n').replace('\\n\\n','\\n') for sent in sents]"
   ]
  },
  {
   "cell_type": "code",
   "execution_count": 80,
   "metadata": {},
   "outputs": [
    {
     "name": "stdout",
     "output_type": "stream",
     "text": [
      "Num Train: 74201 | Num Dev: 9276 | Num Test: 843\n"
     ]
    }
   ],
   "source": [
    "#_sents_to_txt('../data/text_data/orig/trump_all_data_sent_per_line_lower.txt', sents)\n",
    "train, dev, test = _sents_to_train_dev_txt(sents, file_name=\"negative\",debug=True, new_line=True,\n",
    "                                     random_state=42, returns=True, test_size=0.12)"
   ]
  },
  {
   "cell_type": "code",
   "execution_count": 43,
   "metadata": {},
   "outputs": [],
   "source": [
    "#en_train, en_dev = gen_en_train_dev(k = 84320, debug=True)"
   ]
  },
  {
   "cell_type": "code",
   "execution_count": 67,
   "metadata": {},
   "outputs": [
    {
     "name": "stdout",
     "output_type": "stream",
     "text": [
      "Converted en_all_data.txt | Sentences:  84353\n"
     ]
    }
   ],
   "source": [
    "sents = _txt_file_to_sents('../data/text_data/orig/en_all_data.txt', debug=True)\n",
    "sents = [sent.lower() for sent in sents]\n",
    "sents = sents[:84320]"
   ]
  },
  {
   "cell_type": "code",
   "execution_count": 72,
   "metadata": {},
   "outputs": [],
   "source": [
    "sents = [sent.rstrip(\"\\n\").replace('\\n\\n','\\n').replace('\\n\\n','\\n') for sent in sents]"
   ]
  },
  {
   "cell_type": "code",
   "execution_count": 75,
   "metadata": {},
   "outputs": [
    {
     "name": "stdout",
     "output_type": "stream",
     "text": [
      "Num Train: 74201 | Num Dev: 9276 | Num Test: 843\n"
     ]
    }
   ],
   "source": [
    "#_sents_to_txt('orig/en_all_data_lower.txt', sents)\n",
    "train, dev, test = _sents_to_train_dev_txt(sents, file_name=\"positive\",debug=True, new_line=True,\n",
    "                                     random_state=42, returns=True, test_size=0.12)"
   ]
  },
  {
   "cell_type": "code",
   "execution_count": 42,
   "metadata": {},
   "outputs": [],
   "source": [
    "# Update File used to build vocab\n",
    "_gen_full_text_txt()"
   ]
  }
 ],
 "metadata": {
  "kernelspec": {
   "display_name": "Python 3",
   "language": "python",
   "name": "python3"
  },
  "language_info": {
   "codemirror_mode": {
    "name": "ipython",
    "version": 3
   },
   "file_extension": ".py",
   "mimetype": "text/x-python",
   "name": "python",
   "nbconvert_exporter": "python",
   "pygments_lexer": "ipython3",
   "version": "3.7.7"
  }
 },
 "nbformat": 4,
 "nbformat_minor": 2
}
