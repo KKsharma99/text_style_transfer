{
 "cells": [
  {
   "cell_type": "markdown",
   "metadata": {},
   "source": [
    "# Loss Analysis"
   ]
  },
  {
   "cell_type": "markdown",
   "metadata": {},
   "source": [
    "## Imports"
   ]
  },
  {
   "cell_type": "code",
   "execution_count": 122,
   "metadata": {},
   "outputs": [],
   "source": [
    "import numpy as np\n",
    "import pandas as pd\n",
    "import matplotlib.pyplot as plt\n",
    "\n",
    "import argparse\n",
    "import numpy as np\n",
    "import pickle\n",
    "import matplotlib.pyplot as plt\n",
    "from collections import defaultdict"
   ]
  },
  {
   "cell_type": "markdown",
   "metadata": {},
   "source": [
    "## Vocab"
   ]
  },
  {
   "cell_type": "code",
   "execution_count": 18,
   "metadata": {},
   "outputs": [
    {
     "data": {
      "text/plain": [
       "9599"
      ]
     },
     "execution_count": 18,
     "metadata": {},
     "output_type": "execute_result"
    }
   ],
   "source": [
    "vocab = ''\n",
    "fileName = \"../data/yelp/vocabulary_yelp.pickle\"\n",
    "with open(fileName, 'rb') as fp:\n",
    "    vocab = pickle.load(fp)\n",
    "len(vocab)"
   ]
  },
  {
   "cell_type": "code",
   "execution_count": 20,
   "metadata": {},
   "outputs": [
    {
     "data": {
      "text/plain": [
       "165683"
      ]
     },
     "execution_count": 20,
     "metadata": {},
     "output_type": "execute_result"
    }
   ],
   "source": [
    "vocab = ''\n",
    "fileName = \"../data/yelp/vocabulary.pickle\"\n",
    "with open(fileName, 'rb') as fp:\n",
    "    vocab = pickle.load(fp)\n",
    "len(vocab)"
   ]
  },
  {
   "cell_type": "code",
   "execution_count": 24,
   "metadata": {},
   "outputs": [
    {
     "data": {
      "text/plain": [
       "164465"
      ]
     },
     "execution_count": 24,
     "metadata": {},
     "output_type": "execute_result"
    }
   ],
   "source": [
    "vocab = ''\n",
    "fileName = \"../data/yelp/vocabulary.pickle\"\n",
    "with open(fileName, 'rb') as fp:\n",
    "    vocab = pickle.load(fp)\n",
    "len(vocab)"
   ]
  },
  {
   "cell_type": "code",
   "execution_count": 102,
   "metadata": {},
   "outputs": [
    {
     "data": {
      "text/plain": [
       "16017"
      ]
     },
     "execution_count": 102,
     "metadata": {},
     "output_type": "execute_result"
    }
   ],
   "source": [
    "vocab = ''\n",
    "fileName = \"../data/yelp/vocabulary.pickle\"\n",
    "with open(fileName, 'rb') as fp:\n",
    "    vocab = pickle.load(fp)\n",
    "len(vocab)"
   ]
  },
  {
   "cell_type": "code",
   "execution_count": 103,
   "metadata": {},
   "outputs": [
    {
     "data": {
      "text/plain": [
       "160137"
      ]
     },
     "execution_count": 103,
     "metadata": {},
     "output_type": "execute_result"
    }
   ],
   "source": [
    "vocab = ''\n",
    "fileName = \"../data/yelp/vocabulary_trump_en_lower.pickle\"\n",
    "with open(fileName, 'rb') as fp:\n",
    "    vocab = pickle.load(fp)\n",
    "len(vocab)"
   ]
  },
  {
   "cell_type": "code",
   "execution_count": 107,
   "metadata": {
    "scrolled": true
   },
   "outputs": [
    {
     "data": {
      "text/plain": [
       "14412"
      ]
     },
     "execution_count": 107,
     "metadata": {},
     "output_type": "execute_result"
    }
   ],
   "source": [
    "#new_vocab = vocab[:14412]\n",
    "new_vocab = vocab[:50*len(vocab)//100] #len(vocab) - 18*len(vocab)//100\n",
    "len(new_vocab)\n",
    "#vocab[::-1]"
   ]
  },
  {
   "cell_type": "code",
   "execution_count": 115,
   "metadata": {},
   "outputs": [],
   "source": [
    "from nltk import ngrams, FreqDist\n",
    "f = open(\"../data/yelp/full_text.txt\", \"r\", errors=\"ignore\")\n",
    "text = f.read()\n",
    "words = text.split()\n",
    "freq_1_grams = FreqDist(ngrams(words, 1))\n",
    "words_by_freq = freq_1_grams.most_common(len(freq_1_grams))\n",
    "words_freq_atleast_5 = [word[0][0] for word in words_by_freq if word[1] >= 5]"
   ]
  },
  {
   "cell_type": "code",
   "execution_count": 118,
   "metadata": {},
   "outputs": [
    {
     "data": {
      "text/plain": [
       "(23969, 0.14967808813703268)"
      ]
     },
     "execution_count": 118,
     "metadata": {},
     "output_type": "execute_result"
    }
   ],
   "source": [
    "len(words_freq_atleast_5), len(words_freq_atleast_5)/len(vocab)"
   ]
  },
  {
   "cell_type": "code",
   "execution_count": 119,
   "metadata": {},
   "outputs": [],
   "source": [
    "pickle.dump(words_freq_atleast_5, open( \"../data/yelp/vocabulary_min_freq_5.pickle\", \"wb\" ))"
   ]
  },
  {
   "cell_type": "code",
   "execution_count": 98,
   "metadata": {},
   "outputs": [
    {
     "name": "stdout",
     "output_type": "stream",
     "text": [
      "Already up to date.\n"
     ]
    }
   ],
   "source": [
    "!git pull"
   ]
  },
  {
   "cell_type": "markdown",
   "metadata": {},
   "source": [
    "## Functions"
   ]
  },
  {
   "cell_type": "code",
   "execution_count": 123,
   "metadata": {},
   "outputs": [],
   "source": [
    "def getLossesFromFile(base_path):\n",
    "    i = 0\n",
    "    losses = {}\n",
    "    while True:\n",
    "        fileName = base_path.format(i)\n",
    "        print(\"Processing:\", fileName)\n",
    "        try:\n",
    "            with open(fileName, 'rb') as fp:\n",
    "                losses[i] = pickle.load(fp)\n",
    "            i += 1\n",
    "        except Exception as e:\n",
    "            return losses, i"
   ]
  },
  {
   "cell_type": "markdown",
   "metadata": {},
   "source": [
    "## Workflow"
   ]
  },
  {
   "cell_type": "code",
   "execution_count": 137,
   "metadata": {},
   "outputs": [],
   "source": [
    "base_path = '../data/models/yelp/log/epoch_{}/losses.pickle'\n",
    "output = \"losses.png\""
   ]
  },
  {
   "cell_type": "code",
   "execution_count": 138,
   "metadata": {},
   "outputs": [
    {
     "name": "stdout",
     "output_type": "stream",
     "text": [
      "Processing: ../data/models/yelp/log/epoch_0/losses.pickle\n",
      "Processing: ../data/models/yelp/log/epoch_1/losses.pickle\n",
      "Processing: ../data/models/yelp/log/epoch_2/losses.pickle\n",
      "Processing: ../data/models/yelp/log/epoch_3/losses.pickle\n",
      "Processing: ../data/models/yelp/log/epoch_4/losses.pickle\n",
      "Processing: ../data/models/yelp/log/epoch_5/losses.pickle\n",
      "Processing: ../data/models/yelp/log/epoch_6/losses.pickle\n",
      "Processing: ../data/models/yelp/log/epoch_7/losses.pickle\n",
      "Processing: ../data/models/yelp/log/epoch_8/losses.pickle\n",
      "Processing: ../data/models/yelp/log/epoch_9/losses.pickle\n",
      "Processing: ../data/models/yelp/log/epoch_10/losses.pickle\n"
     ]
    }
   ],
   "source": [
    "losses, n_epochs = getLossesFromFile(base_path)"
   ]
  },
  {
   "cell_type": "code",
   "execution_count": 139,
   "metadata": {},
   "outputs": [
    {
     "data": {
      "text/plain": [
       "[{'reconstruction': 7.030601501464844,\n",
       "  'generator': 4.577383041381836,\n",
       "  'autoencoder': 11.60798454284668},\n",
       " {'reconstruction': 6.807374954223633,\n",
       "  'generator': 4.16222620010376,\n",
       "  'autoencoder': 10.969600677490234},\n",
       " {'reconstruction': 6.89368200302124,\n",
       "  'generator': 4.399044990539551,\n",
       "  'autoencoder': 11.292726516723633},\n",
       " {'reconstruction': 6.937568664550781,\n",
       "  'generator': 4.6288676261901855,\n",
       "  'autoencoder': 11.566436767578125},\n",
       " {'reconstruction': 6.854945659637451,\n",
       "  'generator': 4.451457500457764,\n",
       "  'autoencoder': 11.306403160095215},\n",
       " {'reconstruction': 6.950157165527344,\n",
       "  'generator': 4.616326332092285,\n",
       "  'autoencoder': 11.566483497619629},\n",
       " {'reconstruction': 6.951741695404053,\n",
       "  'generator': 4.61756706237793,\n",
       "  'autoencoder': 11.56930923461914},\n",
       " {'reconstruction': 6.758183002471924,\n",
       "  'generator': 4.271993637084961,\n",
       "  'autoencoder': 11.030176162719727},\n",
       " {'reconstruction': 7.028197288513184,\n",
       "  'generator': 5.284971714019775,\n",
       "  'autoencoder': 12.313169479370117},\n",
       " {'reconstruction': 6.879083633422852,\n",
       "  'generator': 4.348796367645264,\n",
       "  'autoencoder': 11.227880477905273},\n",
       " {'reconstruction': 7.0081610679626465,\n",
       "  'generator': 4.186241149902344,\n",
       "  'autoencoder': 11.194402694702148},\n",
       " {'reconstruction': 6.915143966674805,\n",
       "  'generator': 4.402288436889648,\n",
       "  'autoencoder': 11.317432403564453},\n",
       " {'reconstruction': 6.993005752563477,\n",
       "  'generator': 4.280832767486572,\n",
       "  'autoencoder': 11.27383804321289},\n",
       " {'reconstruction': 6.907035827636719,\n",
       "  'generator': 4.108609199523926,\n",
       "  'autoencoder': 11.015645027160645},\n",
       " {'reconstruction': 7.095682144165039,\n",
       "  'generator': 4.944262504577637,\n",
       "  'autoencoder': 12.039944648742676},\n",
       " {'reconstruction': 6.830993175506592,\n",
       "  'generator': 4.627251148223877,\n",
       "  'autoencoder': 11.458244323730469},\n",
       " {'reconstruction': 6.97098445892334,\n",
       "  'generator': 4.098322868347168,\n",
       "  'autoencoder': 11.069307327270508},\n",
       " {'reconstruction': 6.906332969665527,\n",
       "  'generator': 4.3808369636535645,\n",
       "  'autoencoder': 11.28717041015625},\n",
       " {'reconstruction': 7.064174652099609,\n",
       "  'generator': 4.727595329284668,\n",
       "  'autoencoder': 11.791769981384277},\n",
       " {'reconstruction': 6.985316276550293,\n",
       "  'generator': 4.587965965270996,\n",
       "  'autoencoder': 11.573282241821289},\n",
       " {'reconstruction': 6.945455551147461,\n",
       "  'generator': 4.943709373474121,\n",
       "  'autoencoder': 11.889164924621582},\n",
       " {'reconstruction': 6.938788890838623,\n",
       "  'generator': 4.561830043792725,\n",
       "  'autoencoder': 11.500618934631348},\n",
       " {'reconstruction': 6.925317764282227,\n",
       "  'generator': 4.66790771484375,\n",
       "  'autoencoder': 11.593225479125977},\n",
       " {'reconstruction': 7.062217712402344,\n",
       "  'generator': 4.438870429992676,\n",
       "  'autoencoder': 11.50108814239502},\n",
       " {'reconstruction': 6.983670234680176,\n",
       "  'generator': 4.172695636749268,\n",
       "  'autoencoder': 11.156366348266602},\n",
       " {'reconstruction': 7.111435413360596,\n",
       "  'generator': 4.110324382781982,\n",
       "  'autoencoder': 11.221759796142578},\n",
       " {'reconstruction': 6.950531482696533,\n",
       "  'generator': 4.937351226806641,\n",
       "  'autoencoder': 11.887882232666016},\n",
       " {'reconstruction': 7.079017639160156,\n",
       "  'generator': 5.164579391479492,\n",
       "  'autoencoder': 12.243597030639648},\n",
       " {'reconstruction': 7.064332962036133,\n",
       "  'generator': 4.5119733810424805,\n",
       "  'autoencoder': 11.576306343078613},\n",
       " {'reconstruction': 6.874962329864502,\n",
       "  'generator': 4.189716815948486,\n",
       "  'autoencoder': 11.064679145812988},\n",
       " {'reconstruction': 7.011993408203125,\n",
       "  'generator': 4.852368354797363,\n",
       "  'autoencoder': 11.864361763000488},\n",
       " {'reconstruction': 7.0167155265808105,\n",
       "  'generator': 4.331186294555664,\n",
       "  'autoencoder': 11.347902297973633},\n",
       " {'reconstruction': 7.05819845199585,\n",
       "  'generator': 4.026786804199219,\n",
       "  'autoencoder': 11.084985733032227},\n",
       " {'reconstruction': 6.951506614685059,\n",
       "  'generator': 4.366058349609375,\n",
       "  'autoencoder': 11.317564964294434},\n",
       " {'reconstruction': 6.963891506195068,\n",
       "  'generator': 4.474971294403076,\n",
       "  'autoencoder': 11.438862800598145},\n",
       " {'reconstruction': 6.8310770988464355,\n",
       "  'generator': 4.52629280090332,\n",
       "  'autoencoder': 11.357370376586914},\n",
       " {'reconstruction': 6.811969757080078,\n",
       "  'generator': 4.761146545410156,\n",
       "  'autoencoder': 11.573116302490234},\n",
       " {'reconstruction': 7.011752605438232,\n",
       "  'generator': 4.436133861541748,\n",
       "  'autoencoder': 11.44788646697998},\n",
       " {'reconstruction': 6.9268670082092285,\n",
       "  'generator': 5.047418594360352,\n",
       "  'autoencoder': 11.974285125732422},\n",
       " {'reconstruction': 6.9027323722839355,\n",
       "  'generator': 4.446683883666992,\n",
       "  'autoencoder': 11.349416732788086},\n",
       " {'reconstruction': 6.739748001098633,\n",
       "  'generator': 5.0005340576171875,\n",
       "  'autoencoder': 11.74028205871582},\n",
       " {'reconstruction': 6.47645378112793,\n",
       "  'generator': 4.682697772979736,\n",
       "  'autoencoder': 11.159151077270508},\n",
       " {'reconstruction': 7.0321831703186035,\n",
       "  'generator': 4.976106643676758,\n",
       "  'autoencoder': 12.008289337158203},\n",
       " {'reconstruction': 7.209439277648926,\n",
       "  'generator': 4.872133255004883,\n",
       "  'autoencoder': 12.081572532653809},\n",
       " {'reconstruction': 7.046047687530518,\n",
       "  'generator': 4.6004838943481445,\n",
       "  'autoencoder': 11.64653205871582},\n",
       " {'reconstruction': 6.887350559234619,\n",
       "  'generator': 4.786123275756836,\n",
       "  'autoencoder': 11.673473358154297},\n",
       " {'reconstruction': 6.90523624420166,\n",
       "  'generator': 4.669351577758789,\n",
       "  'autoencoder': 11.57458782196045},\n",
       " {'reconstruction': 7.039565563201904,\n",
       "  'generator': 4.1612677574157715,\n",
       "  'autoencoder': 11.200833320617676},\n",
       " {'reconstruction': 6.996707439422607,\n",
       "  'generator': 4.539312362670898,\n",
       "  'autoencoder': 11.536020278930664},\n",
       " {'reconstruction': 7.039144992828369,\n",
       "  'generator': 4.666894912719727,\n",
       "  'autoencoder': 11.706039428710938},\n",
       " {'reconstruction': 7.058365345001221,\n",
       "  'generator': 4.489492416381836,\n",
       "  'autoencoder': 11.547857284545898},\n",
       " {'reconstruction': 6.985154628753662,\n",
       "  'generator': 4.171222686767578,\n",
       "  'autoencoder': 11.156377792358398},\n",
       " {'reconstruction': 7.056140422821045,\n",
       "  'generator': 4.570487976074219,\n",
       "  'autoencoder': 11.626628875732422},\n",
       " {'reconstruction': 7.117157459259033,\n",
       "  'generator': 4.499351978302002,\n",
       "  'autoencoder': 11.616509437561035},\n",
       " {'reconstruction': 7.075338840484619,\n",
       "  'generator': 4.109955787658691,\n",
       "  'autoencoder': 11.185295104980469},\n",
       " {'reconstruction': 6.8910956382751465,\n",
       "  'generator': 4.599445343017578,\n",
       "  'autoencoder': 11.490541458129883},\n",
       " {'reconstruction': 6.898597240447998,\n",
       "  'generator': 4.575057506561279,\n",
       "  'autoencoder': 11.473654747009277},\n",
       " {'reconstruction': 6.781909465789795,\n",
       "  'generator': 4.461135387420654,\n",
       "  'autoencoder': 11.24304485321045},\n",
       " {'reconstruction': 6.959124565124512,\n",
       "  'generator': 4.271877288818359,\n",
       "  'autoencoder': 11.231001853942871},\n",
       " {'reconstruction': 6.944784164428711,\n",
       "  'generator': 5.038982391357422,\n",
       "  'autoencoder': 11.983766555786133},\n",
       " {'reconstruction': 6.993227005004883,\n",
       "  'generator': 3.886033296585083,\n",
       "  'autoencoder': 10.879260063171387},\n",
       " {'reconstruction': 6.9586405754089355,\n",
       "  'generator': 4.75429630279541,\n",
       "  'autoencoder': 11.712936401367188},\n",
       " {'reconstruction': 6.8346052169799805,\n",
       "  'generator': 4.809433937072754,\n",
       "  'autoencoder': 11.644039154052734},\n",
       " {'reconstruction': 6.930111885070801,\n",
       "  'generator': 4.311704635620117,\n",
       "  'autoencoder': 11.241816520690918},\n",
       " {'reconstruction': 6.8600897789001465,\n",
       "  'generator': 4.6224236488342285,\n",
       "  'autoencoder': 11.482513427734375},\n",
       " {'reconstruction': 7.078166484832764,\n",
       "  'generator': 4.547085762023926,\n",
       "  'autoencoder': 11.625251770019531},\n",
       " {'reconstruction': 7.048955917358398,\n",
       "  'generator': 4.168731689453125,\n",
       "  'autoencoder': 11.217687606811523},\n",
       " {'reconstruction': 6.868494987487793,\n",
       "  'generator': 4.635396957397461,\n",
       "  'autoencoder': 11.503891944885254},\n",
       " {'reconstruction': 6.7168192863464355,\n",
       "  'generator': 4.6304931640625,\n",
       "  'autoencoder': 11.347312927246094},\n",
       " {'reconstruction': 6.937863349914551,\n",
       "  'generator': 4.539050102233887,\n",
       "  'autoencoder': 11.476913452148438},\n",
       " {'reconstruction': 7.039947509765625,\n",
       "  'generator': 4.326311111450195,\n",
       "  'autoencoder': 11.36625862121582},\n",
       " {'reconstruction': 6.919580459594727,\n",
       "  'generator': 4.7139177322387695,\n",
       "  'autoencoder': 11.633498191833496},\n",
       " {'reconstruction': 6.77049446105957,\n",
       "  'generator': 4.461729526519775,\n",
       "  'autoencoder': 11.232223510742188},\n",
       " {'reconstruction': 6.945777416229248,\n",
       "  'generator': 4.981576919555664,\n",
       "  'autoencoder': 11.92735481262207},\n",
       " {'reconstruction': 6.914522647857666,\n",
       "  'generator': 4.932095050811768,\n",
       "  'autoencoder': 11.846617698669434},\n",
       " {'reconstruction': 6.907551288604736,\n",
       "  'generator': 4.922850608825684,\n",
       "  'autoencoder': 11.830402374267578},\n",
       " {'reconstruction': 6.893677711486816,\n",
       "  'generator': 4.729591369628906,\n",
       "  'autoencoder': 11.623269081115723},\n",
       " {'reconstruction': 6.996332168579102,\n",
       "  'generator': 4.385826110839844,\n",
       "  'autoencoder': 11.382158279418945},\n",
       " {'reconstruction': 6.971818447113037,\n",
       "  'generator': 4.282637596130371,\n",
       "  'autoencoder': 11.25445556640625},\n",
       " {'reconstruction': 6.982894420623779,\n",
       "  'generator': 4.779648780822754,\n",
       "  'autoencoder': 11.762542724609375},\n",
       " {'reconstruction': 6.945982456207275,\n",
       "  'generator': 4.139667510986328,\n",
       "  'autoencoder': 11.085649490356445},\n",
       " {'reconstruction': 7.102902889251709,\n",
       "  'generator': 4.958361625671387,\n",
       "  'autoencoder': 12.061264038085938},\n",
       " {'reconstruction': 7.0336103439331055,\n",
       "  'generator': 4.67849063873291,\n",
       "  'autoencoder': 11.712100982666016},\n",
       " {'reconstruction': 6.990067958831787,\n",
       "  'generator': 4.655229568481445,\n",
       "  'autoencoder': 11.64529800415039},\n",
       " {'reconstruction': 6.977427959442139,\n",
       "  'generator': 5.074286937713623,\n",
       "  'autoencoder': 12.051714897155762},\n",
       " {'reconstruction': 6.9744343757629395,\n",
       "  'generator': 4.6593170166015625,\n",
       "  'autoencoder': 11.633750915527344},\n",
       " {'reconstruction': 7.2525105476379395,\n",
       "  'generator': 4.7061004638671875,\n",
       "  'autoencoder': 11.958610534667969},\n",
       " {'reconstruction': 7.024322986602783,\n",
       "  'generator': 4.789399147033691,\n",
       "  'autoencoder': 11.813722610473633},\n",
       " {'reconstruction': 7.078392028808594,\n",
       "  'generator': 4.4075798988342285,\n",
       "  'autoencoder': 11.485971450805664},\n",
       " {'reconstruction': 7.024228572845459,\n",
       "  'generator': 4.341602325439453,\n",
       "  'autoencoder': 11.36583137512207},\n",
       " {'reconstruction': 6.848481178283691,\n",
       "  'generator': 4.172743797302246,\n",
       "  'autoencoder': 11.021224975585938},\n",
       " {'reconstruction': 6.926896572113037,\n",
       "  'generator': 4.949404716491699,\n",
       "  'autoencoder': 11.876300811767578},\n",
       " {'reconstruction': 6.988173961639404,\n",
       "  'generator': 4.906340599060059,\n",
       "  'autoencoder': 11.894514083862305},\n",
       " {'reconstruction': 6.743395805358887,\n",
       "  'generator': 4.185120105743408,\n",
       "  'autoencoder': 10.928516387939453},\n",
       " {'reconstruction': 7.099351406097412,\n",
       "  'generator': 4.529969215393066,\n",
       "  'autoencoder': 11.62932014465332},\n",
       " {'reconstruction': 6.949377059936523,\n",
       "  'generator': 4.990856170654297,\n",
       "  'autoencoder': 11.94023323059082},\n",
       " {'reconstruction': 6.752039909362793,\n",
       "  'generator': 4.46970272064209,\n",
       "  'autoencoder': 11.221742630004883},\n",
       " {'reconstruction': 6.85106086730957,\n",
       "  'generator': 4.408504009246826,\n",
       "  'autoencoder': 11.259565353393555},\n",
       " {'reconstruction': 7.044104099273682,\n",
       "  'generator': 4.046186447143555,\n",
       "  'autoencoder': 11.090290069580078},\n",
       " {'reconstruction': 6.947355270385742,\n",
       "  'generator': 4.360272407531738,\n",
       "  'autoencoder': 11.30762767791748},\n",
       " {'reconstruction': 6.822858810424805,\n",
       "  'generator': 4.8231072425842285,\n",
       "  'autoencoder': 11.645965576171875},\n",
       " {'reconstruction': 6.78033971786499,\n",
       "  'generator': 4.521312713623047,\n",
       "  'autoencoder': 11.301652908325195},\n",
       " {'reconstruction': 7.0074849128723145,\n",
       "  'generator': 4.749756336212158,\n",
       "  'autoencoder': 11.757241249084473},\n",
       " {'reconstruction': 7.057727336883545,\n",
       "  'generator': 4.65006160736084,\n",
       "  'autoencoder': 11.707788467407227},\n",
       " {'reconstruction': 7.021938323974609,\n",
       "  'generator': 5.308110237121582,\n",
       "  'autoencoder': 12.330048561096191},\n",
       " {'reconstruction': 6.749046325683594,\n",
       "  'generator': 4.962711334228516,\n",
       "  'autoencoder': 11.71175765991211},\n",
       " {'reconstruction': 7.009400367736816,\n",
       "  'generator': 4.692073822021484,\n",
       "  'autoencoder': 11.7014741897583},\n",
       " {'reconstruction': 6.8953328132629395,\n",
       "  'generator': 4.479343414306641,\n",
       "  'autoencoder': 11.374675750732422},\n",
       " {'reconstruction': 7.058558940887451,\n",
       "  'generator': 4.62810754776001,\n",
       "  'autoencoder': 11.686666488647461},\n",
       " {'reconstruction': 6.972088813781738,\n",
       "  'generator': 4.720922470092773,\n",
       "  'autoencoder': 11.693011283874512},\n",
       " {'reconstruction': 6.8651347160339355,\n",
       "  'generator': 4.647348403930664,\n",
       "  'autoencoder': 11.512483596801758},\n",
       " {'reconstruction': 6.885935306549072,\n",
       "  'generator': 4.367232322692871,\n",
       "  'autoencoder': 11.253168106079102},\n",
       " {'reconstruction': 7.0911688804626465,\n",
       "  'generator': 4.716076850891113,\n",
       "  'autoencoder': 11.807245254516602},\n",
       " {'reconstruction': 7.059791088104248,\n",
       "  'generator': 4.850522041320801,\n",
       "  'autoencoder': 11.91031265258789},\n",
       " {'reconstruction': 7.015971660614014,\n",
       "  'generator': 5.012785911560059,\n",
       "  'autoencoder': 12.028757095336914},\n",
       " {'reconstruction': 7.021907329559326,\n",
       "  'generator': 4.747907638549805,\n",
       "  'autoencoder': 11.769815444946289},\n",
       " {'reconstruction': 7.0016961097717285,\n",
       "  'generator': 4.34822940826416,\n",
       "  'autoencoder': 11.349925994873047},\n",
       " {'reconstruction': 7.109393119812012,\n",
       "  'generator': 4.464114665985107,\n",
       "  'autoencoder': 11.573507308959961},\n",
       " {'reconstruction': 6.76011323928833,\n",
       "  'generator': 4.126675605773926,\n",
       "  'autoencoder': 10.886789321899414},\n",
       " {'reconstruction': 6.895310401916504,\n",
       "  'generator': 4.607479572296143,\n",
       "  'autoencoder': 11.502790451049805},\n",
       " {'reconstruction': 6.968328475952148,\n",
       "  'generator': 4.166477203369141,\n",
       "  'autoencoder': 11.134805679321289},\n",
       " {'reconstruction': 6.96426248550415,\n",
       "  'generator': 4.354560852050781,\n",
       "  'autoencoder': 11.318822860717773},\n",
       " {'reconstruction': 6.874112129211426,\n",
       "  'generator': 4.794334411621094,\n",
       "  'autoencoder': 11.66844654083252},\n",
       " {'reconstruction': 6.9465250968933105,\n",
       "  'generator': 4.551423072814941,\n",
       "  'autoencoder': 11.497947692871094},\n",
       " {'reconstruction': 6.996047019958496,\n",
       "  'generator': 4.654415130615234,\n",
       "  'autoencoder': 11.65046215057373},\n",
       " {'reconstruction': 6.833850383758545,\n",
       "  'generator': 4.444606781005859,\n",
       "  'autoencoder': 11.278457641601562},\n",
       " {'reconstruction': 6.946073055267334,\n",
       "  'generator': 4.37394380569458,\n",
       "  'autoencoder': 11.320016860961914},\n",
       " {'reconstruction': 6.851367950439453,\n",
       "  'generator': 4.645780563354492,\n",
       "  'autoencoder': 11.497148513793945},\n",
       " {'reconstruction': 7.066030979156494,\n",
       "  'generator': 4.0038065910339355,\n",
       "  'autoencoder': 11.06983757019043},\n",
       " {'reconstruction': 6.892704486846924,\n",
       "  'generator': 5.2428436279296875,\n",
       "  'autoencoder': 12.135547637939453},\n",
       " {'reconstruction': 6.861313819885254,\n",
       "  'generator': 4.564777374267578,\n",
       "  'autoencoder': 11.426091194152832},\n",
       " {'reconstruction': 6.916379451751709,\n",
       "  'generator': 4.629899024963379,\n",
       "  'autoencoder': 11.54627799987793},\n",
       " {'reconstruction': 7.004775047302246,\n",
       "  'generator': 4.878382205963135,\n",
       "  'autoencoder': 11.883157730102539},\n",
       " {'reconstruction': 7.030690670013428,\n",
       "  'generator': 4.3894877433776855,\n",
       "  'autoencoder': 11.420178413391113},\n",
       " {'reconstruction': 7.053849697113037,\n",
       "  'generator': 4.32514762878418,\n",
       "  'autoencoder': 11.378997802734375},\n",
       " {'reconstruction': 6.934338092803955,\n",
       "  'generator': 5.2037482261657715,\n",
       "  'autoencoder': 12.138086318969727},\n",
       " {'reconstruction': 7.00056266784668,\n",
       "  'generator': 4.585405349731445,\n",
       "  'autoencoder': 11.585968017578125},\n",
       " {'reconstruction': 7.0246100425720215,\n",
       "  'generator': 4.367934703826904,\n",
       "  'autoencoder': 11.392544746398926},\n",
       " {'reconstruction': 6.920868396759033,\n",
       "  'generator': 4.2718377113342285,\n",
       "  'autoencoder': 11.192706108093262},\n",
       " {'reconstruction': 6.888550281524658,\n",
       "  'generator': 4.258360385894775,\n",
       "  'autoencoder': 11.146910667419434},\n",
       " {'reconstruction': 6.892279148101807,\n",
       "  'generator': 4.773388862609863,\n",
       "  'autoencoder': 11.665668487548828},\n",
       " {'reconstruction': 7.002546787261963,\n",
       "  'generator': 4.4171142578125,\n",
       "  'autoencoder': 11.419660568237305},\n",
       " {'reconstruction': 6.921408176422119,\n",
       "  'generator': 3.9351766109466553,\n",
       "  'autoencoder': 10.856584548950195},\n",
       " {'reconstruction': 7.096700191497803,\n",
       "  'generator': 4.681692600250244,\n",
       "  'autoencoder': 11.778392791748047},\n",
       " {'reconstruction': 6.978630542755127,\n",
       "  'generator': 4.329800128936768,\n",
       "  'autoencoder': 11.308430671691895},\n",
       " {'reconstruction': 6.860576152801514,\n",
       "  'generator': 4.463726043701172,\n",
       "  'autoencoder': 11.324302673339844},\n",
       " {'reconstruction': 6.961204528808594,\n",
       "  'generator': 4.663856029510498,\n",
       "  'autoencoder': 11.62506103515625},\n",
       " {'reconstruction': 7.019900321960449,\n",
       "  'generator': 4.7722015380859375,\n",
       "  'autoencoder': 11.792101860046387},\n",
       " {'reconstruction': 6.991219520568848,\n",
       "  'generator': 4.4801788330078125,\n",
       "  'autoencoder': 11.47139835357666},\n",
       " {'reconstruction': 7.076399803161621,\n",
       "  'generator': 4.435153961181641,\n",
       "  'autoencoder': 11.511553764343262},\n",
       " {'reconstruction': 6.837164878845215,\n",
       "  'generator': 4.615166664123535,\n",
       "  'autoencoder': 11.45233154296875},\n",
       " {'reconstruction': 6.992223739624023,\n",
       "  'generator': 4.233900547027588,\n",
       "  'autoencoder': 11.226123809814453},\n",
       " {'reconstruction': 7.052034378051758,\n",
       "  'generator': 4.380459785461426,\n",
       "  'autoencoder': 11.432494163513184},\n",
       " {'reconstruction': 6.836832046508789,\n",
       "  'generator': 4.556063652038574,\n",
       "  'autoencoder': 11.392895698547363},\n",
       " {'reconstruction': 6.979247570037842,\n",
       "  'generator': 4.385918140411377,\n",
       "  'autoencoder': 11.365165710449219},\n",
       " {'reconstruction': 7.025087356567383,\n",
       "  'generator': 4.5724592208862305,\n",
       "  'autoencoder': 11.597546577453613},\n",
       " {'reconstruction': 7.15467643737793,\n",
       "  'generator': 4.804027557373047,\n",
       "  'autoencoder': 11.958703994750977},\n",
       " {'reconstruction': 7.137386798858643,\n",
       "  'generator': 4.920875549316406,\n",
       "  'autoencoder': 12.05826187133789},\n",
       " {'reconstruction': 7.056008815765381,\n",
       "  'generator': 4.385341167449951,\n",
       "  'autoencoder': 11.441349983215332},\n",
       " {'reconstruction': 6.959422588348389,\n",
       "  'generator': 4.7695088386535645,\n",
       "  'autoencoder': 11.728931427001953},\n",
       " {'reconstruction': 7.186426162719727,\n",
       "  'generator': 4.720256805419922,\n",
       "  'autoencoder': 11.906682968139648},\n",
       " {'reconstruction': 6.855550765991211,\n",
       "  'generator': 4.528236389160156,\n",
       "  'autoencoder': 11.383787155151367},\n",
       " {'reconstruction': 7.0733184814453125,\n",
       "  'generator': 4.259685516357422,\n",
       "  'autoencoder': 11.333003997802734},\n",
       " {'reconstruction': 7.007965564727783,\n",
       "  'generator': 4.54335880279541,\n",
       "  'autoencoder': 11.551324844360352},\n",
       " {'reconstruction': 7.041281223297119,\n",
       "  'generator': 4.811809539794922,\n",
       "  'autoencoder': 11.853090286254883},\n",
       " {'reconstruction': 6.861618995666504,\n",
       "  'generator': 4.929521560668945,\n",
       "  'autoencoder': 11.79114055633545},\n",
       " {'reconstruction': 7.049776554107666,\n",
       "  'generator': 5.288156509399414,\n",
       "  'autoencoder': 12.337932586669922},\n",
       " {'reconstruction': 6.9967756271362305,\n",
       "  'generator': 4.307911396026611,\n",
       "  'autoencoder': 11.3046875},\n",
       " {'reconstruction': 6.805079936981201,\n",
       "  'generator': 4.957901477813721,\n",
       "  'autoencoder': 11.762981414794922},\n",
       " {'reconstruction': 6.7545928955078125,\n",
       "  'generator': 4.547335624694824,\n",
       "  'autoencoder': 11.301928520202637},\n",
       " {'reconstruction': 7.019432067871094,\n",
       "  'generator': 4.640154838562012,\n",
       "  'autoencoder': 11.659586906433105},\n",
       " {'reconstruction': 6.890514373779297,\n",
       "  'generator': 4.596926212310791,\n",
       "  'autoencoder': 11.48744010925293},\n",
       " {'reconstruction': 7.051553249359131,\n",
       "  'generator': 4.232351779937744,\n",
       "  'autoencoder': 11.283905029296875},\n",
       " {'reconstruction': 6.889971733093262,\n",
       "  'generator': 4.803856372833252,\n",
       "  'autoencoder': 11.693828582763672},\n",
       " {'reconstruction': 6.881921291351318,\n",
       "  'generator': 4.230227470397949,\n",
       "  'autoencoder': 11.11214828491211},\n",
       " {'reconstruction': 7.085816860198975,\n",
       "  'generator': 4.508377552032471,\n",
       "  'autoencoder': 11.594194412231445},\n",
       " {'reconstruction': 6.921812057495117,\n",
       "  'generator': 4.755193710327148,\n",
       "  'autoencoder': 11.677005767822266},\n",
       " {'reconstruction': 7.078318119049072,\n",
       "  'generator': 4.4381914138793945,\n",
       "  'autoencoder': 11.516510009765625},\n",
       " {'reconstruction': 7.0447998046875,\n",
       "  'generator': 4.542157173156738,\n",
       "  'autoencoder': 11.586956977844238},\n",
       " {'reconstruction': 6.934525966644287,\n",
       "  'generator': 4.491168022155762,\n",
       "  'autoencoder': 11.42569351196289},\n",
       " {'reconstruction': 6.920339107513428,\n",
       "  'generator': 4.425467491149902,\n",
       "  'autoencoder': 11.345806121826172},\n",
       " {'reconstruction': 7.060041904449463,\n",
       "  'generator': 4.882089138031006,\n",
       "  'autoencoder': 11.942131042480469},\n",
       " {'reconstruction': 7.057619094848633,\n",
       "  'generator': 4.712375164031982,\n",
       "  'autoencoder': 11.769994735717773},\n",
       " {'reconstruction': 7.121728420257568,\n",
       "  'generator': 4.460594654083252,\n",
       "  'autoencoder': 11.58232307434082},\n",
       " {'reconstruction': 7.085341453552246,\n",
       "  'generator': 4.839482307434082,\n",
       "  'autoencoder': 11.924823760986328},\n",
       " {'reconstruction': 6.981837272644043,\n",
       "  'generator': 4.265902042388916,\n",
       "  'autoencoder': 11.247739791870117},\n",
       " {'reconstruction': 6.777679443359375,\n",
       "  'generator': 4.701168537139893,\n",
       "  'autoencoder': 11.47884750366211}]"
      ]
     },
     "execution_count": 139,
     "metadata": {},
     "output_type": "execute_result"
    }
   ],
   "source": [
    "losses[0]"
   ]
  },
  {
   "cell_type": "code",
   "execution_count": 127,
   "metadata": {},
   "outputs": [
    {
     "data": {
      "image/png": "[encoded data removed]",
      "text/plain": [
       "<Figure size 432x288 with 1 Axes>"
      ]
     },
     "metadata": {
      "needs_background": "light"
     },
     "output_type": "display_data"
    }
   ],
   "source": [
    "avgLossesById = defaultdict(list)\n",
    "stdDevById = defaultdict(list)\n",
    "for label in ['reconstruction', 'generator', 'autoencoder']:\n",
    "    for i, epoch in losses.items():\n",
    "        loss = []\n",
    "        for batch in epoch:\n",
    "            loss.append(float(batch[label]))\n",
    "        avgLossesById[label].append(np.average(loss))\n",
    "        stdDevById[label].append(np.std(loss))\n",
    "\n",
    "# for i, epoch in losses.items():\n",
    "#     loss = []\n",
    "#     for batch in epoch:\n",
    "#         loss.append(batch['discriminator0'] + batch['discriminator1'])\n",
    "#     avgLossesById['discriminators'].append(np.average(loss))\n",
    "#     stdDevById['discriminators'].append(np.std(loss))\n",
    "\n",
    "labels = ['reconstruction', 'generator', 'autoencoder'] #'discriminators']\n",
    "for label in labels:\n",
    "    plt.errorbar(\n",
    "        np.array(range(n_epochs)) + 1,\n",
    "        avgLossesById[label],\n",
    "        2 * np.array(stdDevById[label]))\n",
    "\n",
    "plt.legend(labels, loc=\"best\")\n",
    "plt.title(\"Average Losses for Model Components per Epoch\")\n",
    "plt.xlabel(\"Epoch\")\n",
    "plt.ylabel(\"Loss\")\n",
    "plt.savefig(output)"
   ]
  },
  {
   "cell_type": "code",
   "execution_count": 130,
   "metadata": {},
   "outputs": [
    {
     "data": {
      "text/plain": [
       "array([0., 0., 0., 0., 0., 0., 0., 0., 0., 0.])"
      ]
     },
     "execution_count": 130,
     "metadata": {},
     "output_type": "execute_result"
    }
   ],
   "source": [
    "np.zeros(10)"
   ]
  },
  {
   "cell_type": "code",
   "execution_count": 133,
   "metadata": {},
   "outputs": [
    {
     "name": "stdout",
     "output_type": "stream",
     "text": [
      "0\n",
      "1\n",
      "2\n",
      "3\n",
      "4\n",
      "5\n",
      "6\n",
      "7\n",
      "8\n",
      "9\n"
     ]
    }
   ],
   "source": [
    "for i,v in losses.items(): \n",
    "    print(i)"
   ]
  },
  {
   "cell_type": "code",
   "execution_count": 134,
   "metadata": {},
   "outputs": [],
   "source": [
    "avgLossesById = defaultdict(list)\n",
    "stdDevById = defaultdict(list)\n",
    "\n",
    "total_loss = np.zeros(10)\n",
    "std = np.zeros(10)\n",
    "for i, epoch in losses.items():\n",
    "    epoch_loss = []\n",
    "    for label in ['reconstruction', 'generator', 'autoencoder']:\n",
    "        loss = []\n",
    "        for batch in epoch:\n",
    "            loss.append(float(batch[label]))\n",
    "        total_loss[i] += np.average(loss)\n",
    "        all_loss.\n",
    "        #avgLossesById[label].append(np.average(loss))\n",
    "        #stdDevById[label].append(np.std(loss))\n"
   ]
  },
  {
   "cell_type": "code",
   "execution_count": 136,
   "metadata": {},
   "outputs": [
    {
     "data": {
      "text/plain": [
       "array([23.06060649, 24.75757649, 24.09687302, 28.16905603, 27.93217556,\n",
       "       28.89788477, 26.66594352, 30.86024688, 31.45707921, 30.04546795])"
      ]
     },
     "execution_count": 136,
     "metadata": {},
     "output_type": "execute_result"
    }
   ],
   "source": [
    "total_loss"
   ]
  },
  {
   "cell_type": "code",
   "execution_count": 139,
   "metadata": {},
   "outputs": [
    {
     "data": {
      "image/png": "[encoded data removed]",
      "text/plain": [
       "<Figure size 432x288 with 1 Axes>"
      ]
     },
     "metadata": {
      "needs_background": "light"
     },
     "output_type": "display_data"
    }
   ],
   "source": [
    "plt.title(\"Total Loss for Model per Epoch\")\n",
    "plt.xlabel(\"Epoch\")\n",
    "plt.ylabel(\"Loss\")\n",
    "plt.plot(total_loss)\n",
    "plt.show()"
   ]
  },
  {
   "cell_type": "code",
   "execution_count": null,
   "metadata": {},
   "outputs": [],
   "source": [
    "# for i, epoch in losses.items():\n",
    "#     loss = []\n",
    "#     for batch in epoch:\n",
    "#         loss.append(batch['discriminator0'] + batch['discriminator1'])\n",
    "#     avgLossesById['discriminators'].append(np.average(loss))\n",
    "#     stdDevById['discriminators'].append(np.std(loss))\n",
    "\n",
    "labels = ['reconstruction', 'generator', 'autoencoder'] #'discriminators']\n",
    "for label in labels:\n",
    "    plt.errorbar(\n",
    "        np.array(range(n_epochs)) + 1,\n",
    "        avgLossesById[label],\n",
    "        2 * np.array(stdDevById[label]))\n",
    "\n",
    "plt.legend(labels, loc=\"best\")\n",
    "plt.title(\"Average Losses for Model Components per Epoch\")\n",
    "plt.xlabel(\"Epoch\")\n",
    "plt.ylabel(\"Loss\")\n",
    "plt.savefig(output)"
   ]
  },
  {
   "cell_type": "code",
   "execution_count": 129,
   "metadata": {},
   "outputs": [
    {
     "data": {
      "text/plain": [
       "defaultdict(list,\n",
       "            {'autoencoder': [7.686868829948167,\n",
       "              8.25252549533538,\n",
       "              8.032291006914434,\n",
       "              9.389685343506077,\n",
       "              9.310725188297809,\n",
       "              9.6326282564119,\n",
       "              8.888647841047263,\n",
       "              10.286748960056407,\n",
       "              10.485693071402755,\n",
       "              10.015155982631201],\n",
       "             'reconstruction': []})"
      ]
     },
     "execution_count": 129,
     "metadata": {},
     "output_type": "execute_result"
    }
   ],
   "source": [
    "avgLossesById"
   ]
  }
 ],
 "metadata": {
  "kernelspec": {
   "display_name": "Python 3",
   "language": "python",
   "name": "python3"
  },
  "language_info": {
   "codemirror_mode": {
    "name": "ipython",
    "version": 3
   },
   "file_extension": ".py",
   "mimetype": "text/x-python",
   "name": "python",
   "nbconvert_exporter": "python",
   "pygments_lexer": "ipython3",
   "version": "3.7.3"
  }
 },
 "nbformat": 4,
 "nbformat_minor": 2
}
