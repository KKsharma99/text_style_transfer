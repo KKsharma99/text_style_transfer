{
 "cells": [
  {
   "cell_type": "code",
   "execution_count": 3,
   "metadata": {},
   "outputs": [],
   "source": [
    "from nltk.corpus import gutenberg\n",
    "for file_id in gutenberg.fileids():\n",
    "    en_text = open('en_text.txt', 'w')\n",
    "    file_sents = gutenberg.sents(file_id)\n",
    "    for sent in file_sents:\n",
    "        new_sent = ' '.join(sent)\n",
    "        en_text.write(new_sent + '\\n')\n",
    "    en_text.close()"
   ]
  },
  {
   "cell_type": "code",
   "execution_count": null,
   "metadata": {},
   "outputs": [],
   "source": []
  }
 ],
 "metadata": {
  "kernelspec": {
   "display_name": "Python 3.7.4 64-bit",
   "language": "python",
   "name": "python37464bit5a06139154784f7082b34e4572a2fa43"
  },
  "language_info": {
   "codemirror_mode": {
    "name": "ipython",
    "version": 3
   },
   "file_extension": ".py",
   "mimetype": "text/x-python",
   "name": "python",
   "nbconvert_exporter": "python",
   "pygments_lexer": "ipython3",
   "version": "3.7.4"
  }
 },
 "nbformat": 4,
 "nbformat_minor": 4
}
