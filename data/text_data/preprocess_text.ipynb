{
 "cells": [
  {
   "cell_type": "markdown",
   "metadata": {},
   "source": [
    "# Pre-process Text"
   ]
  },
  {
   "cell_type": "markdown",
   "metadata": {},
   "source": [
    "## Imports"
   ]
  },
  {
   "cell_type": "code",
   "execution_count": 31,
   "metadata": {},
   "outputs": [],
   "source": [
    "import numpy as np\n",
    "import pandas as pd\n",
    "import matplotlib.pyplot as plt\n",
    "import nltk\n",
    "import re\n",
    "from sklearn.model_selection import train_test_split\n",
    "import random"
   ]
  },
  {
   "cell_type": "markdown",
   "metadata": {},
   "source": [
    "## Functions"
   ]
  },
  {
   "cell_type": "markdown",
   "metadata": {},
   "source": [
    "### Data Cleaning"
   ]
  },
  {
   "cell_type": "code",
   "execution_count": 3,
   "metadata": {},
   "outputs": [],
   "source": [
    "# Replace URLs in text with a replacement token\n",
    "def remove_urls (text, replace_token='<URL>'):\n",
    "    try:\n",
    "        return re.sub(r'(https|http)?:\\/\\/(\\w|\\.|\\/|\\?|\\=|\\&|\\%)*\\b', replace_token, text, flags=re.MULTILINE)\n",
    "    except:\n",
    "        print(\"URL REMOVAL FAILED for text:\", text)\n",
    "        return text"
   ]
  },
  {
   "cell_type": "markdown",
   "metadata": {},
   "source": [
    "### File Read/Write"
   ]
  },
  {
   "cell_type": "code",
   "execution_count": 4,
   "metadata": {},
   "outputs": [],
   "source": [
    "# Convert txt file into an array of sentences\n",
    "def txt_file_to_sents(path):\n",
    "    f = open(path, \"r\")\n",
    "    text = f.read()\n",
    "    f.close()\n",
    "    #nltk.download('punkt')\n",
    "    sents = nltk.sent_tokenize(text)\n",
    "    print(\"Converted\", path.split('/')[-1],\"| Sentences: \", len(sents))\n",
    "    return sents"
   ]
  },
  {
   "cell_type": "code",
   "execution_count": 37,
   "metadata": {},
   "outputs": [],
   "source": [
    "# Write an array of sentences to a text file\n",
    "def sents_to_txt(out_path, sents, print_failed=True, new_line=True):\n",
    "    fail_sents = []\n",
    "    with open(out_path,'w') as output_file:\n",
    "        for sentence in sents:\n",
    "            try:\n",
    "                if new_line: sentence = sentence+'\\n'\n",
    "                output_file.write(sentence)\n",
    "            except:\n",
    "                fail_sents.append(sentence)\n",
    "    if print_failed:\n",
    "        print(\"Num Sentences Failed to Write: \", len(fail_sents))\n",
    "        for i in fail_sents: print(i)"
   ]
  },
  {
   "cell_type": "code",
   "execution_count": 35,
   "metadata": {},
   "outputs": [],
   "source": [
    "def sents_to_train_dev_txt(sents, prefix, test_size=0.12, random_state=42, new_line=True, ret=False):\n",
    "    train, dev, _, _ = train_test_split(sents, np.zeros(len(sents)),\n",
    "                                            test_size=test_size, random_state=random_state)\n",
    "    print(\"Num Train:\", len(train), \"| Num Dev:\", len(dev))\n",
    "    sents_to_txt(\"train/\" + prefix + \".txt\", train, new_line=new_line)\n",
    "    sents_to_txt(\"dev/\" +prefix + \".txt\", dev, new_line=new_line)\n",
    "    if ret: return train, dev"
   ]
  },
  {
   "cell_type": "markdown",
   "metadata": {},
   "source": [
    "### Generate Dataset Sentences"
   ]
  },
  {
   "cell_type": "code",
   "execution_count": 14,
   "metadata": {},
   "outputs": [],
   "source": [
    "from nltk.corpus import gutenberg\n",
    "from nltk.corpus import brown\n",
    "def gen_en_text_orig():\n",
    "    # Gutenberg\n",
    "    for file_id in gutenberg.fileids():\n",
    "        en_text = open('orig/en_text.txt', 'w')\n",
    "        file_sents = gutenberg.sents(file_id)\n",
    "        for sent in file_sents:\n",
    "            new_sent = ' '.join(sent)\n",
    "            en_text.write(new_sent + '\\n')\n",
    "        en_text.close()\n",
    "    # Brown\n",
    "    for file_id in brown.fileids():\n",
    "        en_text = open('orig/en_text.txt', 'a')\n",
    "        file_sents = brown.sents(file_id)\n",
    "        for sent in file_sents:\n",
    "            new_sent = ' '.join(sent)\n",
    "            en_text.write(new_sent + '\\n')\n",
    "        en_text.close()"
   ]
  },
  {
   "cell_type": "code",
   "execution_count": 41,
   "metadata": {},
   "outputs": [],
   "source": [
    "def gen_trump_sents(ret=True):\n",
    "    rally_speeches = txt_file_to_sents(\"orig/trump_10_2016_rally_speeches_orig.txt\")\n",
    "    tweets_df = pd.read_csv(\"orig/trump_tweets_orig.csv\")\n",
    "    tweets_df['cleaned_text'] = tweets_df.apply(lambda row : remove_urls(row['text']), axis = 1)\n",
    "    sents = rally_speeches + list(tweets_df['cleaned_text'])\n",
    "    print(\"Num Sentences:\", len(sents))\n",
    "    train, dev = sents_to_train_dev_txt(sents, prefix=\"negative\", test_size=0.12, random_state=42, ret=ret)\n",
    "    if ret: return train, dev"
   ]
  },
  {
   "cell_type": "code",
   "execution_count": 44,
   "metadata": {},
   "outputs": [],
   "source": [
    "def gen_en_sents(k = 56857, ret=True):\n",
    "    f = open(\"orig/en_text.txt\", \"r\")\n",
    "    sents = f.readlines()\n",
    "    f.close()\n",
    "    sents = random.sample(sents, k)\n",
    "    print(\"Num Sentences:\", len(sents))\n",
    "    train, dev = sents_to_train_dev_txt(sents, prefix=\"positive\", test_size=0.12, random_state=42, new_line=False,ret=True)\n",
    "    if ret: return train, dev"
   ]
  },
  {
   "cell_type": "markdown",
   "metadata": {},
   "source": [
    "## Workflow"
   ]
  },
  {
   "cell_type": "code",
   "execution_count": 21,
   "metadata": {},
   "outputs": [
    {
     "name": "stdout",
     "output_type": "stream",
     "text": [
      "Converted trump_10_2016_rally_speeches_orig.txt | Sentences:  16493\n",
      "URL REMOVAL FAILED for text: nan\n",
      "Num Sentences: 56857\n",
      "Num Train: 50034 | Num Dev: 6823\n"
     ]
    }
   ],
   "source": [
    "trump_train, trump_dev = gen_trump_sents()"
   ]
  },
  {
   "cell_type": "code",
   "execution_count": 46,
   "metadata": {},
   "outputs": [
    {
     "name": "stdout",
     "output_type": "stream",
     "text": [
      "Num Sentences: 56857\n",
      "Num Train: 50034 | Num Dev: 6823\n",
      "Num Sentences Failed to Write:  0\n",
      "Num Sentences Failed to Write:  0\n"
     ]
    }
   ],
   "source": [
    "en_train, en_dev = gen_en_sents()"
   ]
  }
 ],
 "metadata": {
  "kernelspec": {
   "display_name": "Python 3",
   "language": "python",
   "name": "python3"
  },
  "language_info": {
   "codemirror_mode": {
    "name": "ipython",
    "version": 3
   },
   "file_extension": ".py",
   "mimetype": "text/x-python",
   "name": "python",
   "nbconvert_exporter": "python",
   "pygments_lexer": "ipython3",
   "version": "3.7.3"
  }
 },
 "nbformat": 4,
 "nbformat_minor": 2
}
