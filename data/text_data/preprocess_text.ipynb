{
 "cells": [
  {
   "cell_type": "markdown",
   "metadata": {},
   "source": [
    "# Pre-process Text"
   ]
  },
  {
   "cell_type": "markdown",
   "metadata": {},
   "source": [
    "## Imports"
   ]
  },
  {
   "cell_type": "code",
   "execution_count": 2,
   "metadata": {},
   "outputs": [],
   "source": [
    "import numpy as np\n",
    "import pandas as pd\n",
    "import matplotlib.pyplot as plt\n",
    "import nltk\n",
    "import re\n",
    "from sklearn.model_selection import train_test_split\n",
    "import random"
   ]
  },
  {
   "cell_type": "markdown",
   "metadata": {},
   "source": [
    "## Functions"
   ]
  },
  {
   "cell_type": "markdown",
   "metadata": {},
   "source": [
    "### Helper Functions - Data Cleaning"
   ]
  },
  {
   "cell_type": "code",
   "execution_count": 3,
   "metadata": {},
   "outputs": [],
   "source": [
    "def _remove_urls(tweets, replace_token='<URL>'):\n",
    "    \"\"\" Replace URLs in text with a replacement token\n",
    "    Args:\n",
    "        tweets (list): Tweets to clean\n",
    "        replace_token (str): String to replace URL\n",
    "    Returns:\n",
    "        clean_tweets (list): Cleaned tweet list\n",
    "        removed (list): List of Removed Tweets\n",
    "    \"\"\"\n",
    "    removed = []\n",
    "    clean_tweets = []\n",
    "    for tweet in tweets:\n",
    "        try:\n",
    "            clean_tweet = re.sub(r'(https|http)?:\\/\\/(\\w|\\.|\\/|\\?|\\=|\\&|\\%)*\\b',\n",
    "                          replace_token, tweet, flags=re.MULTILINE)\n",
    "            clean_tweets.append(clean_tweet)\n",
    "        except TypeError:\n",
    "            removed.append(tweet)\n",
    "    return clean_tweets, removed"
   ]
  },
  {
   "cell_type": "code",
   "execution_count": 4,
   "metadata": {},
   "outputs": [],
   "source": [
    "def _remove_RT(tweets):\n",
    "    \"\"\" Remove Retweets\n",
    "    Args:\n",
    "        tweets (list): Tweets to clean\n",
    "    Returns:\n",
    "        clean_tweets (list): Cleaned tweet list\n",
    "        removed (list): List of Removed Tweets\n",
    "    \"\"\"\n",
    "    removed = []\n",
    "    clean_tweets = []\n",
    "    for tweet in tweets:\n",
    "        try:\n",
    "            if 'RT' ==  tweet.split()[0]:\n",
    "                removed.append(tweet)\n",
    "            else: clean_tweets.append(tweet)\n",
    "        except (TypeError, AttributeError):\n",
    "            pass\n",
    "    return clean_tweets, removed"
   ]
  },
  {
   "cell_type": "markdown",
   "metadata": {},
   "source": [
    "### Helper Functions - File Read/Write"
   ]
  },
  {
   "cell_type": "code",
   "execution_count": 5,
   "metadata": {},
   "outputs": [],
   "source": [
    "def _txt_file_to_sents(path, debug=True):\n",
    "    \"\"\" (Helper) Convert txt file into a list of sentences\n",
    "    Args:\n",
    "        path (str): Path to txt file\n",
    "        debug (bool): Whether to print information\n",
    "    Returns:\n",
    "        sents (list): List of sentences in corpus\n",
    "    \"\"\"\n",
    "    f = open(path, \"r\")\n",
    "    text = f.read()\n",
    "    f.close()\n",
    "    #nltk.download('punkt')\n",
    "    sents = nltk.sent_tokenize(text)\n",
    "    if debug: print(\"Converted\", path.split('/')[-1],\"| Sentences: \", len(sents))\n",
    "    return sents"
   ]
  },
  {
   "cell_type": "code",
   "execution_count": 6,
   "metadata": {},
   "outputs": [],
   "source": [
    "def _sents_to_txt(out_path, sents, debug=True, new_line=True):\n",
    "    \"\"\" (Helper) Write an array of sentences to a text file\n",
    "    Args:\n",
    "        out_path (str): Path to write txt file\n",
    "        sents (list): List of sentences in corpus\n",
    "        debug (bool): Whether to print information\n",
    "        new_line (bool): Whether to add a newline char to sentences\n",
    "    \"\"\"\n",
    "    fail_sents = []\n",
    "    with open(out_path,'w') as out_file:\n",
    "        for sentence in sents:\n",
    "            sentence = str(sentence)\n",
    "            try:\n",
    "                sentence = sentence+'\\n' if new_line else sentence\n",
    "                out_file.write(sentence)\n",
    "            except UnicodeEncodeError:\n",
    "                fail_sents.append(sentence)\n",
    "    if debug:\n",
    "        print(\"Num Sentences Failed to Write: \", len(fail_sents))\n",
    "        #for i in fail_sents: print(i)"
   ]
  },
  {
   "cell_type": "code",
   "execution_count": 7,
   "metadata": {},
   "outputs": [],
   "source": [
    "def _sents_to_train_dev_txt(sents, file_name, debug=True, new_line=True, random_state=42,\n",
    "                           returns=False, test_size=0.12):\n",
    "    \"\"\" (Helper) Convert a list of sentences to a train and dev set\n",
    "    Args:\n",
    "        sents (list): List of sentences in corpus\n",
    "        file_name (str): \"positive\" or \"negative\"\n",
    "        debug (bool): Whether to print information\n",
    "        new_line (bool): Whether to add a newline char to sentences\n",
    "        random_state (int): random state for data split\n",
    "        returns (bool): Whether to return train and dev sets\n",
    "        test_size (float): Percentage in dev set\n",
    "    Returns:\n",
    "        train (list): Train set\n",
    "        dev (list): Dev set\n",
    "    \"\"\"\n",
    "    train, dev, _, _ = train_test_split(sents, np.zeros(len(sents)),\n",
    "                                            test_size=test_size, \n",
    "                                        random_state=random_state)\n",
    "    if debug: print(\"Num Train:\", len(train), \"| Num Dev:\", len(dev))\n",
    "    _sents_to_txt(\"train/\" + file_name + \".txt\", train, debug=debug, new_line=new_line)\n",
    "    _sents_to_txt(\"dev/\" + file_name + \".txt\", dev, debug=debug, new_line=new_line)\n",
    "    if returns: return train, dev"
   ]
  },
  {
   "cell_type": "markdown",
   "metadata": {},
   "source": [
    "### Generate Original Dataset Sentences"
   ]
  },
  {
   "cell_type": "markdown",
   "metadata": {},
   "source": [
    "#### English Data"
   ]
  },
  {
   "cell_type": "code",
   "execution_count": 8,
   "metadata": {},
   "outputs": [],
   "source": [
    "from nltk.corpus import brown, gutenberg, inaugural\n",
    "def gen_en_text_orig():\n",
    "    \"\"\" Generate the orig en_text.txt file in the orig folder\n",
    "    \"\"\"\n",
    "    en_text = open('orig/en_text_NEW.txt', 'w')\n",
    "    # Gutenberg\n",
    "    for file_id in gutenberg.fileids():\n",
    "        if file_id == 'bible-kjv.txt' or 'shakespeare' in file_id:\n",
    "            continue\n",
    "        file_sents = gutenberg.sents(file_id)\n",
    "        for sent in file_sents:\n",
    "            new_sent = ' '.join(sent)\n",
    "            en_text.write(new_sent + '\\n')\n",
    "    # Brown\n",
    "    for file_id in brown.fileids():\n",
    "        file_sents = brown.sents(file_id)\n",
    "        for sent in file_sents:\n",
    "            new_sent = ' '.join(sent)\n",
    "            en_text.write(new_sent + '\\n')\n",
    "    # Inaugural\n",
    "    for file_id in brown.fileids():\n",
    "        file_sents = brown.sents(file_id)\n",
    "        for sent in file_sents:\n",
    "            new_sent = ' '.join(sent)\n",
    "            en_text.write(new_sent + '\\n')\n",
    "    en_text.close()"
   ]
  },
  {
   "cell_type": "markdown",
   "metadata": {},
   "source": [
    "### Clean Original Dataset Sentences"
   ]
  },
  {
   "cell_type": "markdown",
   "metadata": {},
   "source": [
    "#### Trump Data"
   ]
  },
  {
   "cell_type": "code",
   "execution_count": 9,
   "metadata": {},
   "outputs": [],
   "source": [
    "def _clean_tweets(tweets, debug=True):\n",
    "    \"\"\" Main Helper function to clean Tweets\n",
    "    Args:\n",
    "        tweets (list): Tweets to clean\n",
    "        debug (bool): Whether to print information\n",
    "    Returns:\n",
    "        tweets (list): Cleaned tweet list\n",
    "    \"\"\"\n",
    "    tweets, del_url = _remove_urls(tweets)\n",
    "    tweets, del_RT = _remove_RT(tweets)\n",
    "    if debug:\n",
    "        print(\"Del Tweets (URL processing):\", len(del_url))\n",
    "        print(\"Del Tweets (RT processing):\", len(del_RT))\n",
    "    return tweets\n",
    "    \n",
    "def _gen_trump_sents(debug=True):\n",
    "    \"\"\" Helper function to generate Trump data sentences\n",
    "    Args:\n",
    "        debug (bool): Whether to print information\n",
    "    \"\"\"\n",
    "    rally_speeches = _txt_file_to_sents(\"orig/trump_10_2016_rally_speeches_orig.txt\", debug=debug)\n",
    "    raw_tweets = list(pd.read_csv(\"orig/trump_tweets_orig.csv\")['text'])\n",
    "    clean_tweets = _clean_tweets(raw_tweets, debug=debug)\n",
    "    sents = rally_speeches + clean_tweets\n",
    "    if debug: print(\"Num Sentences:\", len(sents))\n",
    "    return sents\n",
    "\n",
    "def gen_trump_train_dev(debug=True, new_line=False, random_state=42, returns=True, test_size=0.12):\n",
    "    \"\"\" Main function to generate train and dev set for Trump Data\n",
    "    Args:\n",
    "        debug (bool): Whether to print information\n",
    "        new_line (bool): Whether to add a newline char to sentences\n",
    "        random_state (int): random state for data split\n",
    "        returns (bool): Whether to return train and dev sets\n",
    "        test_size (float): Percentage in dev set\n",
    "    Returns:\n",
    "        train (list): Train set\n",
    "        dev (list): Dev set\n",
    "    \"\"\"\n",
    "    sents = _gen_trump_sents(debug=debug)\n",
    "    train, dev = _sents_to_train_dev_txt(sents, file_name=\"negative\", debug=debug, new_line=new_line,\n",
    "                                        random_state=random_state, returns=returns, test_size=test_size)\n",
    "    if returns: return train, dev"
   ]
  },
  {
   "cell_type": "markdown",
   "metadata": {},
   "source": [
    "#### English Data"
   ]
  },
  {
   "cell_type": "code",
   "execution_count": 20,
   "metadata": {},
   "outputs": [],
   "source": [
    "def _gen_en_sents(k = 56857):\n",
    "    \"\"\" Helper function to generate subsample of en sentences\n",
    "    Args:\n",
    "        k (int): Subsample size\n",
    "    \"\"\"\n",
    "    gen_en_text_orig()\n",
    "    f = open(\"orig/en_text_NEW.txt\", \"r\")\n",
    "    sents = f.readlines()\n",
    "    f.close()\n",
    "    # Uncommment below If reading en_text parts 1 and two\n",
    "#     f = open(\"orig/en_text_part_2.txt\", \"r\")\n",
    "#     sents_2 = f.readlines()\n",
    "#     f.close()\n",
    "#     sents = sents + sents_2\n",
    "    return random.sample(sents, k)\n",
    "\n",
    "def gen_en_train_dev(k, debug=True, new_line=False, random_state=42, returns=True, test_size=0.12):\n",
    "    \"\"\" Main function to generate train and dev set for En Data\n",
    "    Args:\n",
    "        k (int): Subsample size\n",
    "        debug (bool): Whether to print information\n",
    "        new_line (bool): Whether to add a newline char to sentences\n",
    "        random_state (int): random state for data split\n",
    "        returns (bool): Whether to return train and dev sets\n",
    "        test_size (float): Percentage in dev set\n",
    "    Returns:\n",
    "        train (list): Train set\n",
    "        dev (list): Dev set\n",
    "    \"\"\"\n",
    "    sents = _gen_en_sents(k = k)\n",
    "    if debug: print(\"Num Sentences:\", len(sents))\n",
    "    train, dev = _sents_to_train_dev_txt(sents, file_name=\"positive\", debug=debug, test_size=test_size,\n",
    "                                         random_state=random_state, new_line=new_line, returns=returns)\n",
    "    if returns: return train, dev"
   ]
  },
  {
   "cell_type": "markdown",
   "metadata": {},
   "source": [
    "## Workflow"
   ]
  },
  {
   "cell_type": "code",
   "execution_count": 135,
   "metadata": {},
   "outputs": [
    {
     "name": "stdout",
     "output_type": "stream",
     "text": [
      "Converted trump_10_2016_rally_speeches_orig.txt | Sentences:  16493\n",
      "Del Tweets (URL processing): 1\n",
      "Del Tweets (RT processing): 2152\n",
      "Num Sentences: 54704\n",
      "Num Train: 48139 | Num Dev: 6565\n",
      "Num Sentences Failed to Write:  500\n",
      "Num Sentences Failed to Write:  67\n"
     ]
    }
   ],
   "source": [
    "trump_train, trump_dev = gen_trump_train_dev(debug=True)"
   ]
  },
  {
   "cell_type": "code",
   "execution_count": 138,
   "metadata": {},
   "outputs": [
    {
     "name": "stdout",
     "output_type": "stream",
     "text": [
      "Num Sentences: 56857\n",
      "Num Train: 50034 | Num Dev: 6823\n",
      "Num Sentences Failed to Write:  0\n",
      "Num Sentences Failed to Write:  0\n"
     ]
    }
   ],
   "source": [
    "en_train, en_dev = gen_en_train_dev(k = 56857, debug=True)"
   ]
  }
 ],
 "metadata": {
  "kernelspec": {
   "display_name": "Python 3",
   "language": "python",
   "name": "python3"
  },
  "language_info": {
   "codemirror_mode": {
    "name": "ipython",
    "version": 3
   },
   "file_extension": ".py",
   "mimetype": "text/x-python",
   "name": "python",
   "nbconvert_exporter": "python",
   "pygments_lexer": "ipython3",
   "version": "3.7.4"
  }
 },
 "nbformat": 4,
 "nbformat_minor": 2
}
