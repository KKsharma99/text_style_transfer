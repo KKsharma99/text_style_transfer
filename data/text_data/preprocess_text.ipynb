{
 "cells": [
  {
   "cell_type": "markdown",
   "metadata": {},
   "source": [
    "# Pre-process Text"
   ]
  },
  {
   "cell_type": "markdown",
   "metadata": {},
   "source": [
    "## Imports"
   ]
  },
  {
   "cell_type": "code",
   "execution_count": 1,
   "metadata": {},
   "outputs": [],
   "source": [
    "import numpy as np\n",
    "import pandas as pd\n",
    "import matplotlib.pyplot as plt\n",
    "import nltk\n",
    "import re\n",
    "from sklearn.model_selection import train_test_split\n",
    "import random"
   ]
  },
  {
   "cell_type": "markdown",
   "metadata": {},
   "source": [
    "## Functions"
   ]
  },
  {
   "cell_type": "markdown",
   "metadata": {},
   "source": [
    "### Data Cleaning"
   ]
  },
  {
   "cell_type": "code",
   "execution_count": 2,
   "metadata": {},
   "outputs": [],
   "source": [
    "def remove_urls (text, replace_token='<URL>', debug=False):\n",
    "    \"\"\" Replace URLs in text with a replacement token\n",
    "    Args:\n",
    "        text (str): Text to clean\n",
    "        replace_token (str): String to replace URL\n",
    "        debug (bool): Whether to print information\n",
    "    Returns:\n",
    "        text (str): Cleaned string or original if it fails\n",
    "    \"\"\"\n",
    "    try:\n",
    "        return re.sub(r'(https|http)?:\\/\\/(\\w|\\.|\\/|\\?|\\=|\\&|\\%)*\\b',\n",
    "                      replace_token, text, flags=re.MULTILINE)\n",
    "    except TypeError:\n",
    "        if debug: print(\"URL REMOVAL FAILED for text:\", text)\n",
    "        return text"
   ]
  },
  {
   "cell_type": "markdown",
   "metadata": {},
   "source": [
    "### File Read/Write"
   ]
  },
  {
   "cell_type": "code",
   "execution_count": 3,
   "metadata": {},
   "outputs": [],
   "source": [
    "def txt_file_to_sents(path, debug=True):\n",
    "    \"\"\" Convert txt file into a list of sentences\n",
    "    Args:\n",
    "        path (str): Path to txt file\n",
    "        debug (bool): Whether to print information\n",
    "    Returns:\n",
    "        sents (list): List of sentences in corpus\n",
    "    \"\"\"\n",
    "    f = open(path, \"r\")\n",
    "    text = f.read()\n",
    "    f.close()\n",
    "    #nltk.download('punkt')\n",
    "    sents = nltk.sent_tokenize(text)\n",
    "    if debug: print(\"Converted\", path.split('/')[-1],\"| Sentences: \", len(sents))\n",
    "    return sents"
   ]
  },
  {
   "cell_type": "code",
   "execution_count": 14,
   "metadata": {},
   "outputs": [],
   "source": [
    "def _sents_to_txt(out_path, sents, debug=True, new_line=True):\n",
    "    \"\"\" Write an array of sentences to a text file\n",
    "    Args:\n",
    "        out_path (str): Path to write txt file\n",
    "        sents (list): List of sentences in corpus\n",
    "        debug (bool): Whether to print information\n",
    "        new_line (bool): Whether to add a newline char to sentences\n",
    "    \"\"\"\n",
    "    fail_sents = []\n",
    "    with open(out_path,'w') as out_file:\n",
    "        for sentence in sents:\n",
    "            sentence = str(sentence)\n",
    "            try:\n",
    "                sentence = sentence+'\\n' if new_line else sentence\n",
    "                out_file.write(sentence)\n",
    "            except UnicodeEncodeError:\n",
    "                fail_sents.append(sentence)\n",
    "    if debug:\n",
    "        print(\"Num Sentences Failed to Write: \", len(fail_sents))\n",
    "        #for i in fail_sents: print(i)"
   ]
  },
  {
   "cell_type": "code",
   "execution_count": 5,
   "metadata": {},
   "outputs": [],
   "source": [
    "def _sents_to_train_dev_txt(sents, file_name, debug=True, new_line=True, random_state=42,\n",
    "                           returns=False, test_size=0.12):\n",
    "    \"\"\" Convert a list of sentences to a train and dev set\n",
    "    Args:\n",
    "        sents (list): List of sentences in corpus\n",
    "        file_name (str): \"positive\" or \"negative\"\n",
    "        debug (bool): Whether to print information\n",
    "        new_line (bool): Whether to add a newline char to sentences\n",
    "        random_state (int): random state for data split\n",
    "        returns (bool): Whether to return train and dev sets\n",
    "        test_size (float): Percentage in dev set\n",
    "    Returns:\n",
    "        train (list): Train set\n",
    "        dev (list): Dev set\n",
    "    \"\"\"\n",
    "    train, dev, _, _ = train_test_split(sents, np.zeros(len(sents)),\n",
    "                                            test_size=test_size, \n",
    "                                        random_state=random_state)\n",
    "    if debug: print(\"Num Train:\", len(train), \"| Num Dev:\", len(dev))\n",
    "    _sents_to_txt(\"train/\" + file_name + \".txt\", train, debug=debug, new_line=new_line)\n",
    "    _sents_to_txt(\"dev/\" + file_name + \".txt\", dev, debug=debug, new_line=new_line)\n",
    "    if returns: return train, dev"
   ]
  },
  {
   "cell_type": "markdown",
   "metadata": {},
   "source": [
    "### Generate Dataset Sentences"
   ]
  },
  {
   "cell_type": "code",
   "execution_count": 6,
   "metadata": {},
   "outputs": [],
   "source": [
    "from nltk.corpus import gutenberg\n",
    "from nltk.corpus import brown\n",
    "def gen_en_text_orig():\n",
    "    \"\"\" Generate the orig en_text.txt file in the orig folder\n",
    "    \"\"\"\n",
    "    # Gutenberg\n",
    "    for file_id in gutenberg.fileids():\n",
    "        en_text = open('orig/en_text.txt', 'a')\n",
    "        file_sents = gutenberg.sents(file_id)\n",
    "        for sent in file_sents:\n",
    "            new_sent = ' '.join(sent)\n",
    "            en_text.write(new_sent + '\\n')\n",
    "        en_text.close()\n",
    "    # Brown\n",
    "    for file_id in brown.fileids():\n",
    "        en_text = open('orig/en_text.txt', 'a')\n",
    "        file_sents = brown.sents(file_id)\n",
    "        for sent in file_sents:\n",
    "            new_sent = ' '.join(sent)\n",
    "            en_text.write(new_sent + '\\n')\n",
    "        en_text.close()"
   ]
  },
  {
   "cell_type": "code",
   "execution_count": 17,
   "metadata": {},
   "outputs": [],
   "source": [
    "def _gen_trump_sents(debug=True):\n",
    "    rally_speeches = txt_file_to_sents(\"orig/trump_10_2016_rally_speeches_orig.txt\", debug=debug)\n",
    "    tweets_df = pd.read_csv(\"orig/trump_tweets_orig.csv\")\n",
    "    tweets_df['cleaned_text'] = tweets_df.apply(lambda row : remove_urls(row['text']), axis = 1)\n",
    "    sents = rally_speeches + list(tweets_df['cleaned_text'])\n",
    "    if debug: print(\"Num Sentences:\", len(sents))\n",
    "    return sents\n",
    "\n",
    "def gen_trump_train_dev(debug=True, new_line=False, random_state=42, returns=True, test_size=0.12):\n",
    "    \"\"\" Main function to generate train and dev set for Trump Data\n",
    "    Args:\n",
    "        debug (bool): Whether to print information\n",
    "        new_line (bool): Whether to add a newline char to sentences\n",
    "        random_state (int): random state for data split\n",
    "        returns (bool): Whether to return train and dev sets\n",
    "        test_size (float): Percentage in dev set\n",
    "    Returns:\n",
    "        train (list): Train set\n",
    "        dev (list): Dev set\n",
    "    \"\"\"\n",
    "    sents = _gen_trump_sents(debug=debug)\n",
    "    train, dev = _sents_to_train_dev_txt(sents, file_name=\"negative\", debug=debug, new_line=new_line,\n",
    "                                        random_state=random_state, returns=returns, test_size=test_size)\n",
    "    if returns: return train, dev"
   ]
  },
  {
   "cell_type": "code",
   "execution_count": 26,
   "metadata": {},
   "outputs": [],
   "source": [
    "def _gen_en_sents(k = 56857):\n",
    "    f = open(\"orig/en_text.txt\", \"r\")\n",
    "    sents = f.readlines()\n",
    "    f.close()\n",
    "    return random.sample(sents, k)\n",
    "\n",
    "def gen_en_train_dev(k = 56857, returns=True):\n",
    "    sents = _gen_en_sents(k = k)\n",
    "    print(\"Num Sentences:\", len(sents))\n",
    "    train, dev = _sents_to_train_dev_txt(sents, file_name=\"positive\", test_size=0.12, random_state=42,\n",
    "                                         new_line=False, returns=True)\n",
    "    if returns: return train, dev"
   ]
  },
  {
   "cell_type": "markdown",
   "metadata": {},
   "source": [
    "## Workflow"
   ]
  },
  {
   "cell_type": "code",
   "execution_count": 19,
   "metadata": {},
   "outputs": [
    {
     "name": "stdout",
     "output_type": "stream",
     "text": [
      "Converted trump_10_2016_rally_speeches_orig.txt | Sentences:  16493\n",
      "Num Sentences: 56857\n",
      "Num Train: 50034 | Num Dev: 6823\n",
      "Num Sentences Failed to Write:  625\n",
      "Num Sentences Failed to Write:  87\n"
     ]
    }
   ],
   "source": [
    "trump_train, trump_dev = gen_trump_train_dev(debug=True)"
   ]
  },
  {
   "cell_type": "code",
   "execution_count": 27,
   "metadata": {},
   "outputs": [
    {
     "name": "stdout",
     "output_type": "stream",
     "text": [
      "Num Sentences: 56857\n",
      "Num Train: 50034 | Num Dev: 6823\n",
      "Num Sentences Failed to Write:  0\n",
      "Num Sentences Failed to Write:  0\n"
     ]
    }
   ],
   "source": [
    "en_train, en_dev = gen_en_train_dev()"
   ]
  },
  {
   "cell_type": "code",
   "execution_count": null,
   "metadata": {},
   "outputs": [],
   "source": []
  }
 ],
 "metadata": {
  "kernelspec": {
   "display_name": "Python 3",
   "language": "python",
   "name": "python3"
  },
  "language_info": {
   "codemirror_mode": {
    "name": "ipython",
    "version": 3
   },
   "file_extension": ".py",
   "mimetype": "text/x-python",
   "name": "python",
   "nbconvert_exporter": "python",
   "pygments_lexer": "ipython3",
   "version": "3.7.3"
  }
 },
 "nbformat": 4,
 "nbformat_minor": 2
}
